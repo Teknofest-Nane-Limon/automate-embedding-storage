{
 "cells": [
  {
   "cell_type": "markdown",
   "metadata": {},
   "source": [
    "#### Example: Tested Chunk size for context: "
   ]
  },
  {
   "cell_type": "code",
   "execution_count": 23,
   "metadata": {},
   "outputs": [
    {
     "data": {
      "text/plain": [
       "([1385, 511],\n",
       " [\"BMW Bakım Paketleri, aracınız için bir dizi avantaj sunarak, araç bakımını hem daha ekonomik hem de daha rahat bir deneyim haline getiriyor. Bu paketler, bireysel bakım hizmetlerine kıyasla önemli maliyet tasarrufu sağlarken, aynı zamanda BMW'nizin ikinci el değerini de koruyor. BMW Bakım Paketlerinin sunduğu avantajlar arasında öne çıkanlar şunlardır: Maliyet Tasarrufu: Ayrı ayrı yapılan bakımlar yerine bu paketler ile toplamda daha az ödeme yaparak maliyet avantajından yararlanabilirsiniz. Esnek Seçenekler: BMW'nizin ihtiyaçlarına ve bütçenize uygun farklı bakım paketleri arasından seçim yapma özgürlüğü sunar. Değer Koruma: Araç bakım geçmişinin eksiksiz olması, ikinci el piyasasında BMW'nizin değerini korumanıza yardımcı olur. Anında Erişim ve Kullanım: Online olarak hızlı ve kolay bir şekilde satın alınabilen paketler, ihtiyaç duyduğunuz anda hemen kullanılabilir. Maliyet Kontrolü: Yıllar içindeki potansiyel fiyat artışlarından etkilenmeden, harcamalarınızı önceden belirlenen tutarlarla kontrol altında tutabilirsiniz. Devir Kolaylığı: BMW'nizi satmanız durumunda, bakım paketi otomatik olarak yeni sahibine geçerek aracın değerini korur. Kanıtlanmış Kalite: BMW Bakım Paketleri, yalnızca BMW Orijinal Parçaları ve motor yağlarını kullanır, bu da BMW'nizin yüksek teknik \",\n",
       "  \"standartlarını korumanıza yardımcı olur. Geniş Geçerlilik: Bu paketler, sadece Türkiye'de değil, dünya çapında birçok BMW Yetkili Servisi'nde geçerlidir. Kısacası, BMW Bakım Paketleri, hem maliyet etkinliği hem de aracınızın değerini koruma açısından önemli faydalar sunarak, BMW sahiplerine önemli kolaylıklar sağlamaktadır. Bu paketler, araç bakımını hem daha planlanabilir hem de daha ekonomik hale getirerek, BMW sürüş deneyiminizi daha da keyifli kılmayı hedefliyor. \"])"
      ]
     },
     "execution_count": 23,
     "metadata": {},
     "output_type": "execute_result"
    }
   ],
   "source": [
    "def split_text(text, max_size):\n",
    "    words = text.split()\n",
    "    chunks = []\n",
    "    current_chunk = \"\"\n",
    "\n",
    "    for word in words:\n",
    "        if len(current_chunk.encode('utf-8')) + len(word.encode('utf-8')) < max_size:\n",
    "            current_chunk += word + \" \"\n",
    "        else:\n",
    "            chunks.append(current_chunk)\n",
    "            current_chunk = word + \" \"\n",
    "    if current_chunk:\n",
    "        chunks.append(current_chunk)\n",
    "    \n",
    "    return chunks\n",
    "\n",
    "test_text = \"\"\"\n",
    "BMW Bakım Paketleri, aracınız için bir dizi avantaj sunarak, araç bakımını hem daha ekonomik hem de daha rahat bir deneyim haline getiriyor. Bu paketler, bireysel bakım hizmetlerine kıyasla önemli maliyet tasarrufu sağlarken, aynı zamanda BMW'nizin ikinci el değerini de koruyor.\n",
    "\n",
    "BMW Bakım Paketlerinin sunduğu avantajlar arasında öne çıkanlar şunlardır:\n",
    "\n",
    "Maliyet Tasarrufu: Ayrı ayrı yapılan bakımlar yerine bu paketler ile toplamda daha az ödeme yaparak maliyet avantajından yararlanabilirsiniz.\n",
    "Esnek Seçenekler: BMW'nizin ihtiyaçlarına ve bütçenize uygun farklı bakım paketleri arasından seçim yapma özgürlüğü sunar.\n",
    "Değer Koruma: Araç bakım geçmişinin eksiksiz olması, ikinci el piyasasında BMW'nizin değerini korumanıza yardımcı olur.\n",
    "Anında Erişim ve Kullanım: Online olarak hızlı ve kolay bir şekilde satın alınabilen paketler, ihtiyaç duyduğunuz anda hemen kullanılabilir.\n",
    "Maliyet Kontrolü: Yıllar içindeki potansiyel fiyat artışlarından etkilenmeden, harcamalarınızı önceden belirlenen tutarlarla kontrol altında tutabilirsiniz.\n",
    "Devir Kolaylığı: BMW'nizi satmanız durumunda, bakım paketi otomatik olarak yeni sahibine geçerek aracın değerini korur.\n",
    "Kanıtlanmış Kalite: BMW Bakım Paketleri, yalnızca BMW Orijinal Parçaları ve motor yağlarını kullanır, bu da BMW'nizin yüksek teknik standartlarını korumanıza yardımcı olur.\n",
    "Geniş Geçerlilik: Bu paketler, sadece Türkiye'de değil, dünya çapında birçok BMW Yetkili Servisi'nde geçerlidir.\n",
    "Kısacası, BMW Bakım Paketleri, hem maliyet etkinliği hem de aracınızın değerini koruma açısından önemli faydalar sunarak, BMW sahiplerine önemli kolaylıklar sağlamaktadır. Bu paketler, araç bakımını hem daha planlanabilir hem de daha ekonomik hale getirerek, BMW sürüş deneyiminizi daha da keyifli kılmayı hedefliyor.\n",
    "\"\"\" \n",
    "chunks = split_text(test_text, 1400)\n",
    "\n",
    "chunk_sizes = [len(chunk.encode('utf-8')) for chunk in chunks]\n",
    "chunk_sizes, chunks"
   ]
  },
  {
   "cell_type": "markdown",
   "metadata": {},
   "source": [
    "#### Download required library -> Langchain"
   ]
  },
  {
   "cell_type": "code",
   "execution_count": null,
   "metadata": {},
   "outputs": [],
   "source": [
    "!pip install langchain"
   ]
  },
  {
   "cell_type": "markdown",
   "metadata": {},
   "source": [
    "#### see langchain version below (for reference)"
   ]
  },
  {
   "cell_type": "code",
   "execution_count": 112,
   "metadata": {},
   "outputs": [
    {
     "name": "stdout",
     "output_type": "stream",
     "text": [
      "0.0.350\n"
     ]
    }
   ],
   "source": [
    "import langchain \n",
    "print(langchain.__version__)"
   ]
  },
  {
   "cell_type": "markdown",
   "metadata": {},
   "source": [
    "##### The **Borusan** -> AutoHackPDFExtractor class is designed to extract and segment text from PDFs into manageable chunks with specified overlap for efficient processing during the Borusan Auto Hackathon."
   ]
  },
  {
   "cell_type": "code",
   "execution_count": 75,
   "metadata": {},
   "outputs": [],
   "source": [
    "from langchain.document_loaders import PyPDFLoader\n",
    "from langchain.text_splitter import RecursiveCharacterTextSplitter\n",
    "\n",
    "class AutoHackPDFExtractor:\n",
    "    def __init__(self, file_path, chunk_size=2300, overlap_size=100):\n",
    "        \"\"\"\n",
    "        Initializes the BorusanHackathonPDFExtractor.\n",
    "\n",
    "        Args:\n",
    "            file_path (str): The path to the PDF file for the Borusan Hackathon.\n",
    "            chunk_size (int): Maximum size of each text chunk.\n",
    "            overlap_size (int): Size of the overlap between chunks.\n",
    "        \"\"\"\n",
    "        self.file_path = file_path\n",
    "        self.chunk_size = chunk_size\n",
    "        self.overlap_size = overlap_size\n",
    "        self.full_text = \"\"\n",
    "        self.chunks = []\n",
    "        self.pdf_loader = PyPDFLoader(self.file_path)\n",
    "        self.text_splitter = RecursiveCharacterTextSplitter(\n",
    "            chunk_size=self.chunk_size,\n",
    "            chunk_overlap=self.overlap_size,\n",
    "            length_function=len  \n",
    "        )\n",
    "\n",
    "    def extract_text(self):\n",
    "        \"\"\"Extracts text from the PDF file.\"\"\"\n",
    "        extracted_documents = self.pdf_loader.load()\n",
    "        # Extract text from the 'page_content' attribute of each Document\n",
    "        self.full_text = \" \".join([doc.page_content for doc in extracted_documents])\n",
    "\n",
    "    def split_into_chunks(self):\n",
    "        \"\"\"Splits the extracted text into chunks with overlap.\"\"\"\n",
    "        documents = [self.full_text]\n",
    "        split_documents = self.text_splitter.create_documents(documents)\n",
    "        self.chunks = [doc.page_content for doc in split_documents]\n",
    "\n",
    "    def get_chunks(self):\n",
    "        \"\"\"Returns the list of text chunks.\"\"\"\n",
    "        return self.chunks\n",
    "\n",
    "    def process_pdf(self):\n",
    "        \"\"\"Processes the PDF file to extract and split text.\"\"\"\n",
    "        self.extract_text()\n",
    "        self.split_into_chunks()"
   ]
  },
  {
   "cell_type": "markdown",
   "metadata": {},
   "source": [
    "### Get chunks"
   ]
  },
  {
   "cell_type": "code",
   "execution_count": 76,
   "metadata": {},
   "outputs": [],
   "source": [
    "extractor = AutoHackPDFExtractor(\"source/BorusanAutoHack.pdf\")\n",
    "extractor.process_pdf()\n",
    "chunks = extractor.get_chunks()"
   ]
  },
  {
   "cell_type": "code",
   "execution_count": 77,
   "metadata": {},
   "outputs": [
    {
     "name": "stdout",
     "output_type": "stream",
     "text": [
      "--------------------------------------------------\n",
      "Text size: 2443\n",
      "--------------------------------------------------\n",
      "****************************************************************************************************\n",
      "Borusan Oto, BMW araç sahiplerine sunduğu geniş kapsamlı satış sonrası hizmetleri ile dikkat \n",
      "çekiyor : BMW Türkiye Mobil Uygulaması: Bu yenilikçi uygulama,  hem potansiyel BMW alıcılarına hem \n",
      "de mevcut sürücülere araç kullanımının tüm yönleriyle ilgili 360 derece özellikler sunuyor. Kullanıcılar, \n",
      "bu uygulama sayesinde araçlarının performansını izleyebilir ve çeşitli hizmetlere kolayca erişebilirler.  \n",
      "Yol Yardı m Hizmeti: BMW sürücüleri, herhangi bir arıza veya kaza durumunda 7 gün 24 saat \n",
      "erişilebilen Acil Servis hizmetinden yararlanabilirler. 444 22 99 numaralı Yol Yardım Hattı üzerinden \n",
      "ulaşılan profesyonel ekip, araçlara yerinde müdahale edebilir veya Yetkili  Servise çekilmesini \n",
      "sağlayabilir.  BMW Service Inclusive: Bu paket, BMW'nizin bakımını belirlenen süre ve kilometre \n",
      "sınırları dahilinde, dünya genelindeki BMW Yetkili Servisleri tarafından gerçekleştirmeyi garanti eder. \n",
      "Bu sayede, araç sahipleri BMW Yetkil i Servisinin ve Orijinal BMW Parçalarının kalitesinden emin \n",
      "olabilirler.  Orijinal BMW Parçaları: BMW'nizin tüm bileşenlerinin mükemmel uyum içinde çalışmasını \n",
      "sağlayan yüksek kaliteli ve kusursuz parçalar, aracınızın performansını ve güvenliğini artırır.  Garanti + \n",
      "Güvence Paketi: Bu hizmetle, BMW'nizin yasal garanti süresi, tercih edilen Garanti+ paketinin süresi \n",
      "ve kilometre sınırları dahilinde uzatılabilir. Bu, ekstra güvence ve huzur sağlar.  İkame Otomobil \n",
      "Hizmeti: BMW'nizi servise bıraktığınızda, size g eçici olarak ikame bir araç tahsis edilir. Bu hizmet, \n",
      "aracınız serviste olduğu süre boyunca sürüş keyfinizin kesintiye uğramamasını sağlar.  Lastik Hizmeti: \n",
      "Güvenilir markaların lastikleri, cazip şartlar altında sunulur. Bu hizmet, lastik değişimi, hava bas ıncı ve \n",
      "diş derinliği ölçümü gibi rutin bakımları da kapsar.  Oto Kuaför ve Araç Koruma Sistemleri: BMW'nizin \n",
      "iç ve dış temizliği, döşeme ve halı koruması gibi hizmetler sunulur. Ek olarak, boya koruma ve anti -\n",
      "bakteriyel temizlik gibi seçenekler de mevcuttu r. Sigorta Hizmetleri: BMW sahipleri, anlaşmalı sigorta \n",
      "şirketleri aracılığıyla çeşitli sigorta hizmetlerinden yararlanabilirler.Bu hizmetler, BMW sahiplerine \n",
      "kaliteli, güvenilir ve kapsamlı bir destek sağlayarak, araç sahipliği deneyimini üst düzeye çıkar ır. \n",
      "BMW BAKIM PAKETLERİNİ KEŞFEDİN.\n",
      "****************************************************************************************************\n"
     ]
    }
   ],
   "source": [
    "text = chunks[0]\n",
    "text_size = len(text.encode('utf-8'))\n",
    "\n",
    "print(\"-\"*50)\n",
    "\n",
    "print(f\"Text size: {text_size}\")\n",
    "\n",
    "print(\"-\"*50)\n",
    "\n",
    "print(\"*\"*100)\n",
    "\n",
    "print(text)\n",
    "\n",
    "print(\"*\"*100)"
   ]
  },
  {
   "cell_type": "markdown",
   "metadata": {},
   "source": [
    "## Download required libraries"
   ]
  },
  {
   "cell_type": "code",
   "execution_count": null,
   "metadata": {},
   "outputs": [],
   "source": [
    "!pip install openai python-dotenv\n",
    "!pip install --upgrade qdrant_client"
   ]
  },
  {
   "cell_type": "markdown",
   "metadata": {},
   "source": [
    "#### see openai version below (for reference)"
   ]
  },
  {
   "cell_type": "code",
   "execution_count": 79,
   "metadata": {},
   "outputs": [
    {
     "name": "stdout",
     "output_type": "stream",
     "text": [
      "1.3.9\n"
     ]
    }
   ],
   "source": [
    "import openai \n",
    "print(openai.VERSION)"
   ]
  },
  {
   "cell_type": "markdown",
   "metadata": {},
   "source": [
    "### Initialize Azure OpenAI client with API credentials loaded from environment variables."
   ]
  },
  {
   "cell_type": "code",
   "execution_count": 88,
   "metadata": {},
   "outputs": [],
   "source": [
    "from openai import AzureOpenAI\n",
    "from dotenv import load_dotenv\n",
    "import os\n",
    "\n",
    "load_dotenv() \n",
    "\n",
    "API_KEY = os.getenv('AZURE_OPENAI_EMBD_API_KEY')\n",
    "ENDPOINT = os.getenv('AZURE_OPENAI_EMBD_ENDPOINT')\n",
    "\n",
    "azure_client = AzureOpenAI(\n",
    "  api_key=API_KEY,\n",
    "  api_version=\"2023-05-15\",\n",
    "  azure_endpoint=ENDPOINT\n",
    ")"
   ]
  },
  {
   "cell_type": "markdown",
   "metadata": {},
   "source": [
    "##### Configuration for the embedding model: model name - openai embedding model"
   ]
  },
  {
   "cell_type": "code",
   "execution_count": 89,
   "metadata": {},
   "outputs": [],
   "source": [
    "embedding_model = \"text-embedding-ada-002\" "
   ]
  },
  {
   "cell_type": "markdown",
   "metadata": {},
   "source": [
    "##### Convert text chunks to PointStructs with embeddings for Qdrant indexing."
   ]
  },
  {
   "cell_type": "code",
   "execution_count": 93,
   "metadata": {},
   "outputs": [],
   "source": [
    "from qdrant_client.http.models import PointStruct\n",
    "\n",
    "def create_point_structs_from_chunks(chunks):\n",
    "    \"\"\"\n",
    "    Verilen metin parçalarından (chunks) PointStruct nesneleri oluşturur.\n",
    "    \n",
    "    Args:\n",
    "    chunks (list of str): Metin parçalarının listesi.\n",
    "\n",
    "    Returns:\n",
    "    list of PointStruct: Oluşturulan PointStruct nesnelerinin listesi.\n",
    "    \"\"\"\n",
    "    points = []\n",
    "\n",
    "    for index, chunk in enumerate(chunks, start=1):\n",
    "        embeddings = azure_client.embeddings.create(input=chunk, model=embedding_model).data[0].embedding\n",
    "        points.append(PointStruct(id=index, vector=embeddings, payload={\"text\": chunk}))\n",
    "\n",
    "    return points"
   ]
  },
  {
   "cell_type": "markdown",
   "metadata": {},
   "source": [
    "#### Get points"
   ]
  },
  {
   "cell_type": "code",
   "execution_count": 94,
   "metadata": {},
   "outputs": [],
   "source": [
    "points = create_point_structs_from_chunks(chunks)  "
   ]
  },
  {
   "cell_type": "markdown",
   "metadata": {},
   "source": [
    "#####  Create a client instance for Qdrant"
   ]
  },
  {
   "cell_type": "code",
   "execution_count": 95,
   "metadata": {},
   "outputs": [],
   "source": [
    "from qdrant_client import QdrantClient\n",
    "\n",
    "client = QdrantClient(host=\"localhost\", port=6333) "
   ]
  },
  {
   "cell_type": "markdown",
   "metadata": {},
   "source": [
    "#### Create collection with vector configuration - Cosine distance and 1536 vector size"
   ]
  },
  {
   "cell_type": "code",
   "execution_count": 98,
   "metadata": {},
   "outputs": [
    {
     "data": {
      "text/plain": [
       "True"
      ]
     },
     "execution_count": 98,
     "metadata": {},
     "output_type": "execute_result"
    }
   ],
   "source": [
    "from qdrant_client.http.models import VectorParams, Distance\n",
    "\n",
    "client.recreate_collection(\n",
    "    collection_name=\"BorusanAutoHack\",\n",
    "    vectors_config=VectorParams(size=1536, distance=Distance.COSINE),\n",
    ")"
   ]
  },
  {
   "cell_type": "markdown",
   "metadata": {},
   "source": [
    "####  Upsert points to the collection"
   ]
  },
  {
   "cell_type": "code",
   "execution_count": 100,
   "metadata": {},
   "outputs": [
    {
     "data": {
      "text/plain": [
       "UpdateResult(operation_id=0, status=<UpdateStatus.COMPLETED: 'completed'>)"
      ]
     },
     "execution_count": 100,
     "metadata": {},
     "output_type": "execute_result"
    }
   ],
   "source": [
    "client.upsert(\n",
    "    collection_name=\"BorusanAutoHack\",\n",
    "    points=points\n",
    ")"
   ]
  },
  {
   "cell_type": "markdown",
   "metadata": {},
   "source": [
    "#### see collection info or open http://localhost:6333/collections/AutoHackathon in browser for more details"
   ]
  },
  {
   "cell_type": "code",
   "execution_count": 102,
   "metadata": {},
   "outputs": [
    {
     "name": "stdout",
     "output_type": "stream",
     "text": [
      "Number of vectors in the Coderspace - Auto Hackathon collection: 13\n"
     ]
    }
   ],
   "source": [
    "collection_info = client.get_collection(collection_name=\"AutoHackathon\")\n",
    "print(\"Number of vectors in the Coderspace - Auto Hackathon collection:\", collection_info.vectors_count)"
   ]
  },
  {
   "cell_type": "markdown",
   "metadata": {},
   "source": [
    "#### Query Qdrant "
   ]
  },
  {
   "cell_type": "code",
   "execution_count": 108,
   "metadata": {},
   "outputs": [],
   "source": [
    "def query_qdrant(query, top_k=5):\n",
    "\n",
    "    embedded_query = azure_client.embeddings.create(input=query, model=embedding_model).data[0].embedding\n",
    "\n",
    "    qdrant_search_result = client.search(\n",
    "        collection_name=\"AutoHackathon\",\n",
    "        query_vector=embedded_query, \n",
    "        limit=top_k\n",
    "    )\n",
    "\n",
    "    return qdrant_search_result"
   ]
  },
  {
   "cell_type": "markdown",
   "metadata": {},
   "source": [
    "#### Question: "
   ]
  },
  {
   "cell_type": "code",
   "execution_count": 109,
   "metadata": {},
   "outputs": [],
   "source": [
    "question = \"Satış sonrası hangi hizmetler sunulmaktadır?\""
   ]
  },
  {
   "cell_type": "markdown",
   "metadata": {},
   "source": [
    "#### Print result"
   ]
  },
  {
   "cell_type": "code",
   "execution_count": 110,
   "metadata": {},
   "outputs": [
    {
     "name": "stdout",
     "output_type": "stream",
     "text": [
      "{\n",
      "    \"Result\": 1,\n",
      "    \"Score\": 0.8160229,\n",
      "    \"Query Result\": \"Borusan Oto, BMW araç sahiplerine sunduğu geniş kapsamlı satış sonrası hizmetleri ile dikkat \\nçekiyor : BMW Türkiye Mobil Uygulaması: Bu yenilikçi uygulama,  hem potansiyel BMW alıcılarına hem \\nde mevcut sürücülere araç kullanımının tüm yönleriyle ilgili 360 derece özellikler sunuyor. Kullanıcılar, \\nbu uygulama sayesinde araçlarının performansını izleyebilir ve çeşitli hizmetlere kolayca erişebilirler.  \\nYol Yardı m Hizmeti: BMW sürücüleri, herhangi bir arıza veya kaza durumunda 7 gün 24 saat \\nerişilebilen Acil Servis hizmetinden yararlanabilirler. 444 22 99 numaralı Yol Yardım Hattı üzerinden \\nulaşılan profesyonel ekip, araçlara yerinde müdahale edebilir veya Yetkili  Servise çekilmesini \\nsağlayabilir.  BMW Service Inclusive: Bu paket, BMW'nizin bakımını belirlenen süre ve kilometre \\nsınırları dahilinde, dünya genelindeki BMW Yetkili Servisleri tarafından gerçekleştirmeyi garanti eder. \\nBu sayede, araç sahipleri BMW Yetkil i Servisinin ve Orijinal BMW Parçalarının kalitesinden emin \\nolabilirler.  Orijinal BMW Parçaları: BMW'nizin tüm bileşenlerinin mükemmel uyum içinde çalışmasını \\nsağlayan yüksek kaliteli ve kusursuz parçalar, aracınızın performansını ve güvenliğini artırır.  Garanti + \\nGüvence Paketi: Bu hizmetle, BMW'nizin yasal garanti süresi, tercih edilen Garanti+ paketinin süresi \\nve kilometre sınırları dahilinde uzatılabilir. Bu, ekstra güvence ve huzur sağlar.  İkame Otomobil \\nHizmeti: BMW'nizi servise bıraktığınızda, size g eçici olarak ikame bir araç tahsis edilir. Bu hizmet, \\naracınız serviste olduğu süre boyunca sürüş keyfinizin kesintiye uğramamasını sağlar.  Lastik Hizmeti: \\nGüvenilir markaların lastikleri, cazip şartlar altında sunulur. Bu hizmet, lastik değişimi, hava bas ıncı ve \\ndiş derinliği ölçümü gibi rutin bakımları da kapsar.  Oto Kuaför ve Araç Koruma Sistemleri: BMW'nizin \\niç ve dış temizliği, döşeme ve halı koruması gibi hizmetler sunulur. Ek olarak, boya koruma ve anti -\\nbakteriyel temizlik gibi seçenekler de mevcuttu r. Sigorta Hizmetleri: BMW sahipleri, anlaşmalı sigorta \\nşirketleri aracılığıyla çeşitli sigorta hizmetlerinden yararlanabilirler.Bu hizmetler, BMW sahiplerine \\nkaliteli, güvenilir ve kapsamlı bir destek sağlayarak, araç sahipliği deneyimini üst düzeye çıkar ır. \\nBMW BAKIM PAKETLERİNİ KEŞFEDİN.\"\n",
      "}\n",
      "{\n",
      "    \"Result\": 2,\n",
      "    \"Score\": 0.8032446,\n",
      "    \"Query Result\": \"BMW  Bakım  Paketi  hizmetlerini  Türkiye sınırları  dışında  da kullanabilir  miyim?  \\nBMW Bakım Paketleri dünya genelinde programa katılan tüm BMW Yetkili Satıcıları ve \\nServisleri ’nde geçerlidir.  \\n \\nBMW  Bakım  Paketleri  ücreti  nasıl  ödenir?  \\nBu we b sitesi üzerinden BMW Bakım Paketi ücreti sadece kredi kartı kullanılarak ödenir. Bunun \\niçin satın alma aşamasında kredi kartı bilgilerinizi ödeme formuna giriş yapmanız yeterlidir. \\nÖdeme işlemi gerçekleştirilecek kredi kartınızın internet üzerinden alışv erişlere açık olması \\ngerekmektedir. Kredi kartı ile online satın alma yapmak istemiyorsanız tercih edeceğiniz bir BMW \\nYetkili Servisini ziyaret ederek BMW Bakım Paketi talebiniz için servis danışmanınız ile \\ngörüşebilirsiniz.  \\n \\n \\nBMW  Bakım  Paketleri'ni  Yetkili  Servis'den  satın  alabilir  miyim?  \\nEvet. Seçeceğiniz bir bakım paketini BMW Yetkili Servisler'inden satın alabilirsiniz. BMW Servis \\nDanışmanlarımız size bu konuda destek olabil ir. \\n \\nBMW  Bakım  Paketi  satın  almaya  çalışırken  hata alıyorum.  Ne yapmalıyım?  \\nBMW İletişim Merkezi ile 0850 252 10 10 numaralı telefondan \\nveya  https://www.bmw.com.tr/tr/ssl/iletisim -formu.html  adresinden temasa geçerek \\nbilgilerinizin kontrolünü sağlayabilirsiniz. BMW İletişim Merkezi hafta içi 08.00 - 20.00, hafta sonu \\nise 09.00 - 18.00 saatleri arasında hizmet vermektedir.  \\n \\n \\nGARANTI + GÜVENCE PAKETİ  \\nGaranti+, BMW sahiplerinin, satın aldıkları paket dahilinde otomobillerinin yasal garanti süreleri \\ndolduğunda kullanabildikleri, yasal garantiden bağımsız, ek garanti hizmetid ir. Garanti+ sayesinde, \\notomobilinizin garanti süresini, tercih ettiğiniz Garanti+ paketinin kapsam süresi/kilometresi kadar \\nuzatabilirsiniz.  \\n \\n \\n \\n \\n \\nÖNE ÇIKAN AVANTAJLAR.  \\n \\nEtkin Maliyet Kontrolü  \\nİlk tescil tarihinden itibaren 5 yıla kadar öngörülmeyen maliyet ve endişelerden uzak \\ntutar.  \\n \\nDevredilebilir  \\nYeni sahibine aktarılabilir. Böylece BMW'nizin yeniden satış değeri artar.    \\nEsneklik  \\nGaranti+ tüm Borusan Otomotiv BMW Yetkili Servislerinde geçerlidir.  \\n \\nKalite ve Güvenlik  \\nTüm onarımlar için Orijinal BMW  Parçaları kullanılır ve aracınızın değeri korunur.  \\n \\nGARANTİ+ YOL YARDIM HİZMETİ \\nDE SUNUYOR.  \\nGaranti+ güvence paketi süresi devam eden veya yıl sonuna kadar paket sahibi olacak olan\"\n",
      "}\n",
      "{\n",
      "    \"Result\": 3,\n",
      "    \"Score\": 0.8024173,\n",
      "    \"Query Result\": \"Garanti+ güvence paketi süresi devam eden veya yıl sonuna kadar paket sahibi olacak olan \\nBMW otomobil sahipleri 01.01.2023 - 31.12.2023 tarihleri arasında geçerli olmak üzere Yol \\nYardım Hizmeti kapsamında olan  BMW Mobil Servis Hizmeti ve Kurtarıcı Hizmeti ’nden \\nyararlanabilecek*. Yani, Garanti+ güvence paketini satın aldıktan sonra size BMW Yetkili \\nServisleri tarafından iletilen Garanti+ kitapçığının,  5.4/c  maddesind e yer alan Yol Yardım \\nHizmeti’ne ilişkin istisna, 31 Aralık 2023 tarihine kadar uygulanmayacak.* Otomobiliniz herhangi \\nbir harici müdahale olmaksızın arızalananırsa, bu hizmet kapsamında otomobilinizin en yakın \\nBMW Yetkili Servisi’ne çekilmesi ve sizin* de  toplu veya özel ulaşım sağlayabileceğiniz en yakın \\nnoktaya transferinizin sağlanması sürecinden yararlanabileceksiniz.  \\n* Bu hizmet araç hasarlanmaları ile yerinde onarımları kapsamamaktadır. Satın alınan Garanti+ güvence paketinin 31 Aralık 202 3 sonrası sürecinde Yol Yardım Hizmeti ayrıca ücretlendirilecektir. Transfer \\nsüreci, söz konusu aracın içinde bulunan sürücü ve yolcuları kapsamaktadır.  \\n \\nGÜVENCE PAKETLERİ SSS.  \\nGüvence Paketleri hakkında en sık sorulan sorulardan bazılarının yanıtlarını burada \\nbulab ilirsiniz.  \\nGaranti+  paket  seçenekleri  nelerdir?  \\nGaranti+ ile garanti sürenizi uzatmak için üç seçeneğiniz var: 3 yıla tamamlama, 4 yıla \\ntamamlama veya 5 yıla tamamlama. Üç seçim için de 200.000 km limiti  bulunmaktadır.  \\n \\nGüvence  Paketine  sahip  olarak  neye  hak kazanırsınız?  \\nSatın aldığınız Garanti+ paketi, otomobilinizin taahhütnamede belirtilen parçalarını teminat \\nkapsamına dahil eder ve oluşabilecek mekanik ve elektrik -elektronik arızalara karşı otomobilinizi \\nseçtiğiniz Garanti+ paketi dahilinde bir nevi koruma altına alır. Oluşabilecek mekanik ve elektrik -\\nelektronik arızalar karşısında Garanti+, hiçbir dış neden olmaksızın işlevini yitiren bir parçan ın \\nonarılması ya da değiştirilmesini sağlayarak bunu gerçekleştirir. Böylece oluşabilecek sorunun en \\nkesin ve profesyonel çözümüne ulaşmış olursunuz.  \\nGüvence  Paketleri  nasıl  satın  alınır?  \\nGüvence Paketi satın almak çok kolay.  \\n1. Size en uygun Güvence Paketi ’ni seçin.  \\n2. Otomobilinizin 17 haneli şasi numarasının tamamını ve fatura bilgilerinizi giriş yapın.\"\n",
      "}\n",
      "{\n",
      "    \"Result\": 4,\n",
      "    \"Score\": 0.80105007,\n",
      "    \"Query Result\": \"usulsüz bir bir işlem yapılmamış olmalı,  \\n \\nSatın  alınan  bir Güvence  Paketi  hizmeti  süresi  genişle tilebilir  mi? \\nGüvence Paketi süresi uzatma işlemleri konusunda BMW Yetkili Servis danışmanlarınızdan bilgi \\nalabilirsiniz.  \\n \\nGüvence  Paketleri  kapsamındaki  hizmetleri  ne zaman  kullanmaya  başlayabilirim?  \\nGaranti+, aldığınız BMW modelinin yasal garanti süresinin bitmesinin ardından hemen başlar.  \\n  Otomobil  satılırsa  Güvence  Paketi  hakkı  otomobilin  yeni sahibine  aktarılıyor  mu? \\nEvet. Paket doğrudan otomobile  bağlıdır ve dolayısıyla önceki sahibiyle aynı koşullar altında ve \\naynı dönem süresince yeni sahibi tarafından kullanılabilir.  \\n \\nGüvence  Paketi  hizmetlerini  Türkiye  sınırları  dışında  da kullanabilir  miyim ? \\nGüvence Paketleri Türkiye genelinde programa katılan tüm BMW Yetkili Satıcıları ve \\nServisleri ’nde geçerlidir.  \\n \\nGüvence  Paketleri  ücreti  nasıl  ödenir?  \\nBu web sitesi üzerinden Güvence Paketi ücreti sadec e kredi kartı kullanılarak ödenir. Bunun için \\nsatın alma aşamasında kredi kartı bilgilerinizi ödeme formuna giriş yapmanız yeterlidir. Ödeme \\nişlemi gerçekleştirilecek kredi kartınızın internet üzerinden alışverişlere açık olması \\ngerekmektedir. Kredi kartı ile online satın alma yapmak istemiyorsanız tercih edeceğiniz bir BMW \\nYetkili Servisini ziyaret ederek Güvence Paketi talebiniz için servis danışmanınız ile \\ngörüşebilirsiniz.  \\n \\nGüvence  Paketleri'ni  Yetkil i Servis'den  satın  alabilir  miyim?  \\nEvet. Seçeceğiniz bir güvence paketini BMW Yetkili Servisler'inden satın alabilirsiniz. BMW Servis \\nDanışmanlarımız size bu konuda destek olabilir.  \\n \\nGüvence  Paketi  satın  almaya  çalışırken  hata alıyorum.  Ne yapmalıyım?  \\nBMW İletişim Merkezi ile 0850 252 10 10 numaralı telefondan \\nveya  https://www.bmw.com.tr/tr/ssl/iletisim -formu.html  adresinden tem asa geçerek \\nbilgilerinizin kontrolünü sağlayabilirsiniz. BMW İletişim Merkezi hafta içi 08.00 - 20.00, hafta sonu \\nise 09.00 - 18.00 saatleri arasında hizmet vermektedir.  \\n \\n \\nSİGORTA HİZMETİ  \\nANLAŞMALI SİGORTALAR VE GEREKLİ BELGELER.  \\nBorusan Oto olarak anlaşmalı olduğumuz sigorta şirketlerinden BMW marka otomobiliniz için size \\nözel kasko ve trafik sigortası teklifi alabilirsiniz.  \\nHasar işlemlerinde dosya açılması için gerekli olan evraklar;\"\n",
      "}\n",
      "{\n",
      "    \"Result\": 5,\n",
      "    \"Score\": 0.7974244,\n",
      "    \"Query Result\": \"2. Otomobilinizin 17 haneli şasi numarasının tamamını ve fatura bilgilerinizi giriş yapın.  \\n3. Kredi kartınıza ait bilgilerinizi giriş yapın ve satın alma işleminizi online tamamlayın.  \\n \\nBMW  Bakım  Paketine  sahip  olmanın  avantajları  nelerdir?  \\nAvantanjlar:  \\n 'Her şey dahil' olduğundan ekstra maliyetleri düşünmenize gerek yoktur.  \\n Yurtdışı kullanım (ulusal sınırlar dışında geçerli).  \\n Esneklik (hizmetleri katılan tüm BMW yetkili satıcılarında kullanabilirsiniz).  \\n Orijinal parça ve profesyonel hizmetler sayesinde güvenli bakım işlemi.  \\n \\nMaliyet faktörü:  \\n Bakımlarda şeffaf maliyet ve verimlilik.  \\n Otomobilinizin ikinci el değerinde artış.  \\n Fiyat artışlarına karşı koruma.  \\n \\nBMW  Bakım  Paketi  süresi  / kilometresi  ne zaman  başlar?  \\nSatın alınan paketin süresi / kilometresi her zaman otomobilinizin ilk tescil edildiği tarihte başlar. \\nBu BMW Bakım Paketi'nin otomobilinizin tescil tarihin den daha sonraki bir tarihte satın alınması \\ndurumunda da geçerlidir. BMW Bakım Paketi'nden en avantajlı şekilde yararlanabilmeniz için \\npaketin ilk motor yağ servisi işleminden önce satın alınması gerekmektedir.  \\n \\nBMW  Bakım  Paketleri  geçerlilik  dönemi  ne zaman  sona  erer?  \\nBMW Bakım Paketi kullanım hakkı, iki sınırlamadan birine ulaşıldığında sona erer (kilometre \\nolarak kat edilen mesafe veya yıl olarak sözleşme süresi). BMW Bakım Paketleri için maksimum \\nsüre ve maksimum kilometre sırasıyla 5 yıl ve 100.000 km'dir.    \\nBMW  Service  Inclusive  paketi  hangi  hizmetleri  kapsıyor?  \\nBMW Servis Inclusive paketi aşağıdaki hizmetlerden oluşur:  \\n Motor yağı değişimi (yağ filtresi dahil)*  \\n Periyodik bakım kapsamında hava filtresi*, yakıt filtresi*, mikrofiltre, buji değişimi*  \\n Fren hidroliği servisi  \\n Araç kontrol servisi  \\n*Anılan Hizmetler tamamen elektrikli araçlar için geçerli değildir.  \\n \\n \\nBMW  Service  Inclusive  Plus paketi  hangi  hizmetleri  kapsıyor?  \\nBMW Service Inclusive Plus paketi aşağıdakilerden oluşur:  \\n Motor yağı değişimi (yağ filtresi dahil)*  \\n Periyodik bakım kapsamında hava filtresi*, y akıt filtresi*, mikrofiltre, buji değişimi*  \\n Fren hidroliği servisi  \\n Araç kontrol servisi  \\n Ön – arka fren balataları değişimi**  \\n Ön – arka fren diskleri değişimi**\"\n",
      "}\n"
     ]
    }
   ],
   "source": [
    "import json \n",
    "\n",
    "def print_search_results_json(results):\n",
    "    for i, result in enumerate(results):\n",
    "        result_dict = {\n",
    "            'Result': i + 1,\n",
    "            'Score': result.score,\n",
    "            'Query Result': result.payload['text']\n",
    "        }\n",
    "\n",
    "        print(json.dumps(result_dict, indent=4, ensure_ascii=False))\n",
    "\n",
    "print_search_results_json(query_qdrant(question))"
   ]
  }
 ],
 "metadata": {
  "kernelspec": {
   "display_name": "v-env",
   "language": "python",
   "name": "python3"
  },
  "language_info": {
   "codemirror_mode": {
    "name": "ipython",
    "version": 3
   },
   "file_extension": ".py",
   "mimetype": "text/x-python",
   "name": "python",
   "nbconvert_exporter": "python",
   "pygments_lexer": "ipython3",
   "version": "3.9.6"
  }
 },
 "nbformat": 4,
 "nbformat_minor": 2
}
