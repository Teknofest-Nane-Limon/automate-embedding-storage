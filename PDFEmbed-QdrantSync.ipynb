{
 "cells": [
  {
   "cell_type": "markdown",
   "metadata": {},
   "source": [
    "#### This class is designed for the Borusan Hackathon to efficiently extract and segment text from PDF documents."
   ]
  },
  {
   "cell_type": "code",
   "execution_count": 8,
   "metadata": {},
   "outputs": [
    {
     "name": "stdout",
     "output_type": "stream",
     "text": [
      "Requirement already satisfied: pdfplumber in ./v-env/lib/python3.9/site-packages (0.10.3)\n",
      "Requirement already satisfied: pdfminer.six==20221105 in ./v-env/lib/python3.9/site-packages (from pdfplumber) (20221105)\n",
      "Requirement already satisfied: Pillow>=9.1 in ./v-env/lib/python3.9/site-packages (from pdfplumber) (10.1.0)\n",
      "Requirement already satisfied: pypdfium2>=4.18.0 in ./v-env/lib/python3.9/site-packages (from pdfplumber) (4.25.0)\n",
      "Requirement already satisfied: charset-normalizer>=2.0.0 in ./v-env/lib/python3.9/site-packages (from pdfminer.six==20221105->pdfplumber) (3.3.2)\n",
      "Requirement already satisfied: cryptography>=36.0.0 in ./v-env/lib/python3.9/site-packages (from pdfminer.six==20221105->pdfplumber) (41.0.7)\n",
      "Requirement already satisfied: cffi>=1.12 in ./v-env/lib/python3.9/site-packages (from cryptography>=36.0.0->pdfminer.six==20221105->pdfplumber) (1.16.0)\n",
      "Requirement already satisfied: pycparser in ./v-env/lib/python3.9/site-packages (from cffi>=1.12->cryptography>=36.0.0->pdfminer.six==20221105->pdfplumber) (2.21)\n"
     ]
    }
   ],
   "source": [
    "!pip install pdfplumber"
   ]
  },
  {
   "cell_type": "code",
   "execution_count": 9,
   "metadata": {},
   "outputs": [],
   "source": [
    "import pdfplumber\n",
    "\n",
    "class BorusanHackathonPDFExtractor:\n",
    "    def __init__(self, file_path, chunk_size=500):\n",
    "        \"\"\"\n",
    "        Initializes the BorusanHackathonPDFExtractor.\n",
    "\n",
    "        Args:\n",
    "        file_path (str): The path to the PDF file for the Borusan Hackathon.\n",
    "        chunk_size (int): Maximum size of each text chunk.\n",
    "        \"\"\"\n",
    "        self.file_path = file_path\n",
    "        self.chunk_size = chunk_size\n",
    "        self.full_text = \"\"\n",
    "        self.chunks = []\n",
    "\n",
    "    def extract_text(self):\n",
    "        \"\"\"Extracts text from the PDF file.\"\"\"\n",
    "        with pdfplumber.open(self.file_path) as pdf:\n",
    "            for page in pdf.pages:\n",
    "                self.full_text += page.extract_text() or \"\"\n",
    "\n",
    "    def split_into_chunks(self):\n",
    "        \"\"\"\n",
    "        Splits the extracted text into chunks of up to chunk_size.\n",
    "        Chunks are split at the last period before the chunk_size limit.\n",
    "        \"\"\"\n",
    "        text = self.full_text\n",
    "        while len(text) > self.chunk_size:\n",
    "            last_period_index = text[:self.chunk_size].rfind('.')\n",
    "            if last_period_index == -1:\n",
    "                last_period_index = self.chunk_size\n",
    "            self.chunks.append(text[:last_period_index].strip())\n",
    "            text = text[last_period_index+1:]\n",
    "\n",
    "        if text:\n",
    "            self.chunks.append(text.strip())\n",
    "\n",
    "    def get_chunks(self):\n",
    "        \"\"\"Returns the list of text chunks.\"\"\"\n",
    "        return self.chunks\n",
    "\n",
    "    def process_pdf(self):\n",
    "        \"\"\"Processes the PDF file to extract and split text.\"\"\"\n",
    "        self.extract_text()\n",
    "        self.split_into_chunks()"
   ]
  },
  {
   "cell_type": "markdown",
   "metadata": {},
   "source": [
    "### Get chunks"
   ]
  },
  {
   "cell_type": "code",
   "execution_count": 10,
   "metadata": {},
   "outputs": [],
   "source": [
    "extractor = BorusanHackathonPDFExtractor(\"source/borusan.pdf\")\n",
    "extractor.process_pdf()\n",
    "chunks = extractor.get_chunks()"
   ]
  },
  {
   "cell_type": "markdown",
   "metadata": {},
   "source": [
    "## Download required libraries"
   ]
  },
  {
   "cell_type": "code",
   "execution_count": null,
   "metadata": {},
   "outputs": [],
   "source": [
    "!pip install openai python-dotenv\n",
    "!pip install --upgrade qdrant_client"
   ]
  },
  {
   "cell_type": "markdown",
   "metadata": {},
   "source": [
    "#### see openai version below (for reference)"
   ]
  },
  {
   "cell_type": "code",
   "execution_count": 12,
   "metadata": {},
   "outputs": [
    {
     "name": "stdout",
     "output_type": "stream",
     "text": [
      "1.3.8\n"
     ]
    }
   ],
   "source": [
    "import openai \n",
    "print(openai.VERSION)"
   ]
  },
  {
   "cell_type": "markdown",
   "metadata": {},
   "source": [
    "### Initialize Azure OpenAI client with API credentials loaded from environment variables."
   ]
  },
  {
   "cell_type": "code",
   "execution_count": 2,
   "metadata": {},
   "outputs": [],
   "source": [
    "from openai import AzureOpenAI\n",
    "from dotenv import load_dotenv\n",
    "import os\n",
    "\n",
    "load_dotenv() \n",
    "\n",
    "API_KEY = os.getenv('AZURE_OPENAI_API_KEY')\n",
    "RESOURCE_ENDPOINT = os.getenv('AZURE_OPENAI_ENDPOINT')\n",
    "\n",
    "azure_client = AzureOpenAI(\n",
    "  api_key=API_KEY,\n",
    "  api_version=\"2023-05-15\",\n",
    "  azure_endpoint=RESOURCE_ENDPOINT\n",
    ")"
   ]
  },
  {
   "cell_type": "markdown",
   "metadata": {},
   "source": [
    "##### Configuration for the embedding model: model name - openai embedding model"
   ]
  },
  {
   "cell_type": "code",
   "execution_count": 6,
   "metadata": {},
   "outputs": [],
   "source": [
    "embedding_model = \"text-embedding-ada-002\" "
   ]
  },
  {
   "cell_type": "markdown",
   "metadata": {},
   "source": [
    "##### Convert text chunks to PointStructs with embeddings for Qdrant indexing."
   ]
  },
  {
   "cell_type": "code",
   "execution_count": 15,
   "metadata": {},
   "outputs": [],
   "source": [
    "from qdrant_client.http.models import PointStruct\n",
    "\n",
    "def create_point_structs_from_chunks(chunks):\n",
    "    \"\"\"\n",
    "    Verilen metin parçalarından (chunks) PointStruct nesneleri oluşturur.\n",
    "    \n",
    "    Args:\n",
    "    chunks (list of str): Metin parçalarının listesi.\n",
    "\n",
    "    Returns:\n",
    "    list of PointStruct: Oluşturulan PointStruct nesnelerinin listesi.\n",
    "    \"\"\"\n",
    "    points = []\n",
    "\n",
    "    for index, chunk in enumerate(chunks, start=1):\n",
    "        embeddings = azure_client.embeddings.create(input=chunk, model=embedding_model).data[0].embedding\n",
    "        points.append(PointStruct(id=index, vector=embeddings, payload={\"text\": chunk}))\n",
    "\n",
    "    print(\"Embedding size:\", len(embeddings)) # VectorParams fonksiyonu için embedding size'ı döndürmemiz gerekiyor. Buna göre size parametresini ayarlayabilirsiniz.\n",
    "\n",
    "    return points"
   ]
  },
  {
   "cell_type": "markdown",
   "metadata": {},
   "source": [
    "#### Get points"
   ]
  },
  {
   "cell_type": "code",
   "execution_count": 16,
   "metadata": {},
   "outputs": [
    {
     "name": "stdout",
     "output_type": "stream",
     "text": [
      "Embedding size: 1536\n"
     ]
    }
   ],
   "source": [
    "points = create_point_structs_from_chunks(chunks)  "
   ]
  },
  {
   "cell_type": "markdown",
   "metadata": {},
   "source": [
    "#####  Create a client instance for Qdrant"
   ]
  },
  {
   "cell_type": "code",
   "execution_count": 8,
   "metadata": {},
   "outputs": [],
   "source": [
    "from qdrant_client import QdrantClient\n",
    "\n",
    "client = QdrantClient(host=\"localhost\", port=6333) "
   ]
  },
  {
   "cell_type": "markdown",
   "metadata": {},
   "source": [
    "#### Create collection with vector configuration - Cosine distance and 1536 vector size"
   ]
  },
  {
   "cell_type": "code",
   "execution_count": 18,
   "metadata": {},
   "outputs": [
    {
     "data": {
      "text/plain": [
       "True"
      ]
     },
     "execution_count": 18,
     "metadata": {},
     "output_type": "execute_result"
    }
   ],
   "source": [
    "from qdrant_client.http.models import VectorParams, Distance\n",
    "\n",
    "client.recreate_collection(\n",
    "    collection_name=\"AutoHackathon\",\n",
    "    vectors_config=VectorParams(size=1536, distance=Distance.COSINE),\n",
    ")"
   ]
  },
  {
   "cell_type": "markdown",
   "metadata": {},
   "source": [
    "####  Upsert points to the collection"
   ]
  },
  {
   "cell_type": "code",
   "execution_count": 20,
   "metadata": {},
   "outputs": [
    {
     "data": {
      "text/plain": [
       "UpdateResult(operation_id=0, status=<UpdateStatus.COMPLETED: 'completed'>)"
      ]
     },
     "execution_count": 20,
     "metadata": {},
     "output_type": "execute_result"
    }
   ],
   "source": [
    "client.upsert(\n",
    "    collection_name=\"AutoHackathon\",\n",
    "    points=points\n",
    ")"
   ]
  },
  {
   "cell_type": "markdown",
   "metadata": {},
   "source": [
    "#### see collection info or open http://localhost:6333/collections/AutoHackathon in browser for more details"
   ]
  },
  {
   "cell_type": "code",
   "execution_count": 25,
   "metadata": {},
   "outputs": [
    {
     "name": "stdout",
     "output_type": "stream",
     "text": [
      "Number of vectors in the Coderspace - Auto Hackathon collection: 66\n"
     ]
    }
   ],
   "source": [
    "collection_info = client.get_collection(collection_name=\"AutoHackathon\")\n",
    "print(\"Number of vectors in the Coderspace - Auto Hackathon collection:\", collection_info.vectors_count)"
   ]
  },
  {
   "cell_type": "markdown",
   "metadata": {},
   "source": [
    "#### Query Qdrant "
   ]
  },
  {
   "cell_type": "code",
   "execution_count": 9,
   "metadata": {},
   "outputs": [],
   "source": [
    "def query_qdrant(query, top_k=20):\n",
    "\n",
    "    embedded_query = azure_client.embeddings.create(input=query, model=embedding_model).data[0].embedding\n",
    "\n",
    "    qdrant_search_result = client.search(\n",
    "        collection_name=\"AutoHackathon\",\n",
    "        query_vector=embedded_query, \n",
    "        limit=top_k\n",
    "    )\n",
    "\n",
    "    return qdrant_search_result"
   ]
  },
  {
   "cell_type": "code",
   "execution_count": 32,
   "metadata": {},
   "outputs": [],
   "source": [
    "query = \"BMW Bakım Paketleri nedir?\"\n",
    "\n",
    "qdrant_search_result = query_qdrant(query)"
   ]
  },
  {
   "cell_type": "markdown",
   "metadata": {},
   "source": [
    "#### Print result"
   ]
  },
  {
   "cell_type": "code",
   "execution_count": 41,
   "metadata": {},
   "outputs": [
    {
     "name": "stdout",
     "output_type": "stream",
     "text": [
      "{\n",
      "    \"Result\": 1,\n",
      "    \"Score\": 0.92988884,\n",
      "    \"Query Result\": \"BMW Bakım Paketleri nedir?\\nBMW Bakım Paketleri ile sürüş keyfini sonuna kadar yaşayabilirsiniz. Artık bakım, aşınma ve\\nyıpranma gibi maliyetleri düşünmenize gerek yok. Bir defaya mahsus ödeme yaparak, seçilen\\npakete/sözleşmeye göre bakım, yıpranma ve aşınmalara bağlı işlemleri yaptırmaya hak\\nkazanabilirsiniz\"\n",
      "}\n",
      "{\n",
      "    \"Result\": 2,\n",
      "    \"Score\": 0.9169937,\n",
      "    \"Query Result\": \"Otomobil satılırsa BMW Bakım Paketi hakkı otomobilin yeni sahibine aktarılıyor mu?\\nEvet. Paket doğrudan otomobile bağlıdır ve dolayısıyla önceki sahibiyle aynı koşullar altında ve\\naynı dönem süresince yeni sahibi tarafından kullanılabilir.\\nBMW Bakım Paketi hizmetlerini Türkiye sınırları dışında da kullanabilir miyim?\\nBMW Bakım Paketleri dünya genelinde programa katılan tüm BMW Yetkili Satıcıları ve\\nServisleri’nde geçerlidir\"\n",
      "}\n",
      "{\n",
      "    \"Result\": 3,\n",
      "    \"Score\": 0.9041988,\n",
      "    \"Query Result\": \"BMW BAKIM PAKETLERİ\\nHİZMET DETAYLARI.\\nBMW Bakım Paketleri kapsamında sunulan hizmetler her zaman deneyimli BMW servis\\nuzmanlarımız tarafından yenilikçi arıza tespiti ve programlama teknolojileriyle Orijinal\\nBMW Parçaları ve Motor Yağları kullanılarak gerçekleştirilir.\\nBMW Yağ Servisi.\\nBMW Yağ Servisi, BMW'nizin motorunun akıcı biçimde çalışmasını sağlar\"\n",
      "}\n",
      "{\n",
      "    \"Result\": 4,\n",
      "    \"Score\": 0.9022567,\n",
      "    \"Query Result\": \"BMW Bakım Paketleri kapsamındaki hizmetleri ne zaman kullanmaya başlayabilirim?\\nBMW Bakım Paketi kapsamındaki hizmetleri paket satın aldığınız andan itibaren araç göstergeleri\\nve Kullanma Kılavuzu’nda belirtilmiş olan aralık, içerik ve üretici talimatları çerçevesinde Araç’ın\\nbelirttiği bakım gereksinimleri ve uyarıları (CBS) doğrultusunda bir ihtiyacı olması halinde BMW\\nYetkili Servisleri'nde kullanabilirsiniz\"\n",
      "}\n",
      "{\n",
      "    \"Result\": 5,\n",
      "    \"Score\": 0.9011812,\n",
      "    \"Query Result\": \"BMW Bakım Paketine sahip olarak neye hak kazanırsınız?\\nBMW Bakım Paketine sahip olarak ekstra maliyet olmaksızın ilgili paket kapsamında yer alan tüm\\nhizmetlerden faydalanmaya hak kazanırsınız. Bu haklar kararlaştırılan sözleşme dönemi için veya\\nsözleşmenizde belirtilen kilometreyi aşana kadar (hangisi önce sona ererse) geçerlidir.\\nBMW Bakım Paketleri nasıl satın alınır?\\nBMW Bakım Paketi satın almak çok kolay.\\n1. Size en uygun BMW Bakım Paketi'ni seçin.\\n2\"\n",
      "}\n",
      "{\n",
      "    \"Result\": 6,\n",
      "    \"Score\": 0.89963424,\n",
      "    \"Query Result\": \"FİYAT AVANTAJI.\\nBMW Bakım Paketleri, ayrı ayrı ödenen hizmetlere kıyasla önemli ölçüde maliyet\\ntasarrufu sağlar.\\nSEÇME ÖZGÜRLÜĞÜ.\\nFarklı kapsamlardaki BMW Bakım Paketleri'nden size uygun olanı seçebilirsiniz.\\nDEĞER KATAR.\\nEksiksiz bakım geçmişi sayesinde BMW'nizin ikinci el değerini koruyabilirsiniz.\\nANINDA KULLANIN.\\nOnline olarak kolayca satın alabilir ve otomobilinizin ihtiyaç durumuna göre anında\\nkullanmaya başlayabilirsiniz.\\nMALİYET KONTROLÜ\"\n",
      "}\n",
      "{\n",
      "    \"Result\": 7,\n",
      "    \"Score\": 0.89810467,\n",
      "    \"Query Result\": \" Orijinal parça ve profesyonel hizmetler sayesinde güvenli bakım işlemi.\\nMaliyet faktörü:\\n Bakımlarda şeffaf maliyet ve verimlilik.\\n Otomobilinizin ikinci el değerinde artış.\\n Fiyat artışlarına karşı koruma.BMW Bakım Paketi süresi / kilometresi ne zaman başlar?\\nSatın alınan paketin süresi / kilometresi her zaman otomobilinizin ilk tescil edildiği tarihte başlar.\\nBu BMW Bakım Paketi'nin otomobilinizin tescil tarihinden daha sonraki bir tarihte satın alınması\\ndurumunda da geçerlidir\"\n",
      "}\n",
      "{\n",
      "    \"Result\": 8,\n",
      "    \"Score\": 0.89773154,\n",
      "    \"Query Result\": \"BMW Bakım Paketi'nden en avantajlı şekilde yararlanabilmeniz için\\npaketin ilk motor yağ servisi işleminden önce satın alınması gerekmektedir.\\nBMW Bakım Paketleri geçerlilik dönemi ne zaman sona erer?\\nBMW Bakım Paketi kullanım hakkı, iki sınırlamadan birine ulaşıldığında sona erer (kilometre\\nolarak kat edilen mesafe veya yıl olarak sözleşme süresi). BMW Bakım Paketleri için maksimum\\nsüre ve maksimum kilometre sırasıyla 5 yıl ve 100.000 km'dir\"\n",
      "}\n",
      "{\n",
      "    \"Result\": 9,\n",
      "    \"Score\": 0.8955821,\n",
      "    \"Query Result\": \"BMW Service Inclusive paketi, gerekli tüm BMW Orijinal Parçaları ve motor yağı dahil olmak\\nüzere tüm bakım işlemlerini kapsar. Bu paket sadece henüz ilk bakımı yapılmamış araçlar için\\nuygundur. Seçilen paketin süresi, otomobilinizin ilk tescil tarihinden itibaren başlar\"\n",
      "}\n",
      "{\n",
      "    \"Result\": 10,\n",
      "    \"Score\": 0.8856731,\n",
      "    \"Query Result\": \"Yıllar içinde gelen fiyat artışlarından hiçbir şekilde etkilenmezsiniz. Harcama tutarı sizin\\nkontrolünüzde olur.\\nDEVRETME KOLAYLIĞI.\\nOtomobilinizi satarsanız BMW Bakım Paketi otomatik olarak bir sonraki sahibine devrolur\\nve böylece değeri korunur.\\nKANITLANMIŞ KALİTE.\\nKullanılan BMW Orijinal Parçaları ve motor yağları yüksek BMW teknik özelliklerini\\nkarşılar.\\nDÜNYA ÇAPINDA GEÇERLİ.\\nBMW Bakım Paketleri, sadece Türkiye değil, dünya çapında tüm katılımcı BMW Yetkili\\nServisleri'nde geçerlidir\"\n",
      "}\n",
      "{\n",
      "    \"Result\": 11,\n",
      "    \"Score\": 0.8826107,\n",
      "    \"Query Result\": \"Tek bir ödeme ile motor yağından\\nfiltrelere, fren hidroliğinden balata ve disklerin değişimine kadar pek çok hizmete\\nseçeceğiniz paketin süre ve kilometre kapsamına göre belirlenen avantajlı fiyatlarla sahip\\nolursunuz.\\nBMW BAKIM PAKETLERİNİ\\nKEŞFEDİN.\\nİhtiyaçlarınızı en iyi hangi paket karşılar? \\\"BMW Service Inclusive\\\" ve \\\"BMW Service\\nInclusive Plus\\\" paketleri arasından tercihinizi yapın ve online satın alın.\\nBMW SERVICE INCLUSIVE\"\n",
      "}\n",
      "{\n",
      "    \"Result\": 12,\n",
      "    \"Score\": 0.88099504,\n",
      "    \"Query Result\": \"Kredi kartı ile online satın alma yapmak istemiyorsanız tercih edeceğiniz bir BMW\\nYetkili Servisini ziyaret ederek BMW Bakım Paketi talebiniz için servis danışmanınız ile\\ngörüşebilirsiniz.\\nBMW Bakım Paketleri'ni Yetkili Servis'den satın alabilir miyim?\\nEvet. Seçeceğiniz bir bakım paketini BMW Yetkili Servisler'inden satın alabilirsiniz. BMW Servis\\nDanışmanlarımız size bu konuda destek olabilir.\\nBMW Bakım Paketi satın almaya çalışırken hata alıyorum\"\n",
      "}\n",
      "{\n",
      "    \"Result\": 13,\n",
      "    \"Score\": 0.8805831,\n",
      "    \"Query Result\": \"a)\\n*Anılan Hizmetler tamamen elektrikli araçlar için geçerli değildir.\\n**Anılan Hizmetler tamamen elektrikli araçlar için tüm paket süresi boyunca en fazla 1 (bir) kez\\ndeğiştirilebilir.\\nBMW Bakım Paketleri hangi araçlar için satın alınabilir?\\nBMW Bakım Paketi satın alınacak aracın aşağıda belirtilen özelliklere sahip olması gereklidir.\\n BMW markalı olmalı\\n Satın alma tarihi itibariyle, ilk tescil edildikleri tarihe göre 3 Yıl veya 40\"\n",
      "}\n",
      "{\n",
      "    \"Result\": 14,\n",
      "    \"Score\": 0.8803487,\n",
      "    \"Query Result\": \"BMW Bakım Paketleri ücreti nasıl ödenir?\\nBu web sitesi üzerinden BMW Bakım Paketi ücreti sadece kredi kartı kullanılarak ödenir. Bunun\\niçin satın alma aşamasında kredi kartı bilgilerinizi ödeme formuna giriş yapmanız yeterlidir.\\nÖdeme işlemi gerçekleştirilecek kredi kartınızın internet üzerinden alışverişlere açık olması\\ngerekmektedir\"\n",
      "}\n",
      "{\n",
      "    \"Result\": 15,\n",
      "    \"Score\": 0.8792132,\n",
      "    \"Query Result\": \"Anlaşmalı olduğumuz sigorta şirketleri ile BMW sigorta işleminizden dilediğinizi\\nyaptırabilir, ayrıcalıklı hizmetlerimizden faydalanabilirsiniz.BMW Service Inclusive.\\nBMW Bakım Paketleri ile otomobilinizin bakım, aşınma ve yıpranma sebebiyle ortaya çıkan\\nmasrafları konusunda endişelenmenize gerek yok\"\n",
      "}\n",
      "{\n",
      "    \"Result\": 16,\n",
      "    \"Score\": 0.8765067,\n",
      "    \"Query Result\": \"000\\nkm(Hangisi önce dolarsa) aşmamış olmalı,\\n Borusan Otomotiv tarafından ithal edilmiş ve dolayısıyla Borusan Otomotiv’e ait\\nsistemde ve şasi bazında tanımlı bir araç olması,\\n İlk periyodik bakım işleminin henüz yapılmamış olması,\\n Daha önce tanımlanmış ve devam eden bir BMW Bakım Paketi olmamalı,\\n Kilometre veya elektronik sistemlerinde herhangi bir şekilde manipülasyon veya sair\\nusulsüz bir bir işlem yapılmamış olmalı,\\nBMW Bakım Paketi, üretici firmanın desteklediği ve öngördüğü bir ürün\"\n",
      "}\n",
      "{\n",
      "    \"Result\": 17,\n",
      "    \"Score\": 0.8756847,\n",
      "    \"Query Result\": \"lmakla, üretici standart\\nve/veya bildirimleri uyarınca uygun olmayan Araç için satış yapılmaz; yapılmış olsa dahi iptal\\nişlemi yapılır.Satın alınan bir BMW Bakım Paketi hizmeti süresi genişletilebilir mi?\\nBMW Bakım Paketi süresi uzatma işlemleri konusunda BMW Yetkili Servis danışmanlarınızdan\\nbilgi alabilirsiniz\"\n",
      "}\n",
      "{\n",
      "    \"Result\": 18,\n",
      "    \"Score\": 0.8688544,\n",
      "    \"Query Result\": \"Paket doğrudan otomobile bağlıdır ve dolayısıyla önceki sahibiyle aynı koşullar altında ve\\naynı dönem süresince yeni sahibi tarafından kullanılabilir.\\nGüvence Paketi hizmetlerini Türkiye sınırları dışında da kullanabilir miyim?\\nGüvence Paketleri Türkiye genelinde programa katılan tüm BMW Yetkili Satıcıları ve\\nServisleri’nde geçerlidir.\\nGüvence Paketleri ücreti nasıl ödenir?\\nBu web sitesi üzerinden Güvence Paketi ücreti sadece kredi kartı kullanılarak ödenir\"\n",
      "}\n",
      "{\n",
      "    \"Result\": 19,\n",
      "    \"Score\": 0.8677205,\n",
      "    \"Query Result\": \"BMW Service Inclusive paketi hangi hizmetleri kapsıyor?\\nBMW Servis Inclusive paketi aşağıdaki hizmetlerden oluşur:\\n Motor yağı değişimi (yağ filtresi dahil)*\\n Periyodik bakım kapsamında hava filtresi*, yakıt filtresi*, mikrofiltre, buji değişimi*\\n Fren hidroliği servisi\\n Araç kontrol servisi\\n*Anılan Hizmetler tamamen elektrikli araçlar için geçerli değildir\"\n",
      "}\n",
      "{\n",
      "    \"Result\": 20,\n",
      "    \"Score\": 0.8670707,\n",
      "    \"Query Result\": \"Satın aldığınız BMW Service Inclusive paket kapsamında, BMW’nizin ilgili süre/kilometre sınırları\\niçerisindeki bakımı dünyanın dört bir yanında bu sisteme tabi olan BMW Yetkili Servisleri\\ntarafından yapılır. Böylelikle BMW’niz BMW Yetkili Servisinin ve Orijinal BMW Parçalarının\\nmükemmel kalitesinden hiçbir zaman mahrum kalmaz.\\nOrijinal BMW Parçaları\"\n",
      "}\n"
     ]
    }
   ],
   "source": [
    "import json \n",
    "\n",
    "def print_search_results_json(results):\n",
    "    for i, result in enumerate(results):\n",
    "        # Sonucu bir sözlük olarak oluştur\n",
    "        result_dict = {\n",
    "            'Result': i + 1,\n",
    "            'Score': result.score,\n",
    "            'Query Result': result.payload['text']\n",
    "        }\n",
    "\n",
    "        print(json.dumps(result_dict, indent=4, ensure_ascii=False))\n",
    "\n",
    "print_search_results_json(qdrant_search_result)"
   ]
  },
  {
   "cell_type": "code",
   "execution_count": 42,
   "metadata": {},
   "outputs": [
    {
     "name": "stdout",
     "output_type": "stream",
     "text": [
      "{\n",
      "    \"Result\": 1,\n",
      "    \"Score\": 0.92988884,\n",
      "    \"Query Result\": \"BMW Bakım Paketleri nedir?\\nBMW Bakım Paketleri ile sürüş keyfini sonuna kadar yaşayabilirsiniz. Artık bakım, aşınma ve\\nyıpranma gibi maliyetleri düşünmenize gerek yok. Bir defaya mahsus ödeme yaparak, seçilen\\npakete/sözleşmeye göre bakım, yıpranma ve aşınmalara bağlı işlemleri yaptırmaya hak\\nkazanabilirsiniz\"\n",
      "}\n",
      "{\n",
      "    \"Result\": 2,\n",
      "    \"Score\": 0.9169937,\n",
      "    \"Query Result\": \"Otomobil satılırsa BMW Bakım Paketi hakkı otomobilin yeni sahibine aktarılıyor mu?\\nEvet. Paket doğrudan otomobile bağlıdır ve dolayısıyla önceki sahibiyle aynı koşullar altında ve\\naynı dönem süresince yeni sahibi tarafından kullanılabilir.\\nBMW Bakım Paketi hizmetlerini Türkiye sınırları dışında da kullanabilir miyim?\\nBMW Bakım Paketleri dünya genelinde programa katılan tüm BMW Yetkili Satıcıları ve\\nServisleri’nde geçerlidir\"\n",
      "}\n",
      "{\n",
      "    \"Result\": 3,\n",
      "    \"Score\": 0.9041988,\n",
      "    \"Query Result\": \"BMW BAKIM PAKETLERİ\\nHİZMET DETAYLARI.\\nBMW Bakım Paketleri kapsamında sunulan hizmetler her zaman deneyimli BMW servis\\nuzmanlarımız tarafından yenilikçi arıza tespiti ve programlama teknolojileriyle Orijinal\\nBMW Parçaları ve Motor Yağları kullanılarak gerçekleştirilir.\\nBMW Yağ Servisi.\\nBMW Yağ Servisi, BMW'nizin motorunun akıcı biçimde çalışmasını sağlar\"\n",
      "}\n",
      "{\n",
      "    \"Result\": 4,\n",
      "    \"Score\": 0.9022567,\n",
      "    \"Query Result\": \"BMW Bakım Paketleri kapsamındaki hizmetleri ne zaman kullanmaya başlayabilirim?\\nBMW Bakım Paketi kapsamındaki hizmetleri paket satın aldığınız andan itibaren araç göstergeleri\\nve Kullanma Kılavuzu’nda belirtilmiş olan aralık, içerik ve üretici talimatları çerçevesinde Araç’ın\\nbelirttiği bakım gereksinimleri ve uyarıları (CBS) doğrultusunda bir ihtiyacı olması halinde BMW\\nYetkili Servisleri'nde kullanabilirsiniz\"\n",
      "}\n",
      "{\n",
      "    \"Result\": 5,\n",
      "    \"Score\": 0.9011812,\n",
      "    \"Query Result\": \"BMW Bakım Paketine sahip olarak neye hak kazanırsınız?\\nBMW Bakım Paketine sahip olarak ekstra maliyet olmaksızın ilgili paket kapsamında yer alan tüm\\nhizmetlerden faydalanmaya hak kazanırsınız. Bu haklar kararlaştırılan sözleşme dönemi için veya\\nsözleşmenizde belirtilen kilometreyi aşana kadar (hangisi önce sona ererse) geçerlidir.\\nBMW Bakım Paketleri nasıl satın alınır?\\nBMW Bakım Paketi satın almak çok kolay.\\n1. Size en uygun BMW Bakım Paketi'ni seçin.\\n2\"\n",
      "}\n",
      "{\n",
      "    \"Result\": 6,\n",
      "    \"Score\": 0.89963424,\n",
      "    \"Query Result\": \"FİYAT AVANTAJI.\\nBMW Bakım Paketleri, ayrı ayrı ödenen hizmetlere kıyasla önemli ölçüde maliyet\\ntasarrufu sağlar.\\nSEÇME ÖZGÜRLÜĞÜ.\\nFarklı kapsamlardaki BMW Bakım Paketleri'nden size uygun olanı seçebilirsiniz.\\nDEĞER KATAR.\\nEksiksiz bakım geçmişi sayesinde BMW'nizin ikinci el değerini koruyabilirsiniz.\\nANINDA KULLANIN.\\nOnline olarak kolayca satın alabilir ve otomobilinizin ihtiyaç durumuna göre anında\\nkullanmaya başlayabilirsiniz.\\nMALİYET KONTROLÜ\"\n",
      "}\n",
      "{\n",
      "    \"Result\": 7,\n",
      "    \"Score\": 0.89810467,\n",
      "    \"Query Result\": \" Orijinal parça ve profesyonel hizmetler sayesinde güvenli bakım işlemi.\\nMaliyet faktörü:\\n Bakımlarda şeffaf maliyet ve verimlilik.\\n Otomobilinizin ikinci el değerinde artış.\\n Fiyat artışlarına karşı koruma.BMW Bakım Paketi süresi / kilometresi ne zaman başlar?\\nSatın alınan paketin süresi / kilometresi her zaman otomobilinizin ilk tescil edildiği tarihte başlar.\\nBu BMW Bakım Paketi'nin otomobilinizin tescil tarihinden daha sonraki bir tarihte satın alınması\\ndurumunda da geçerlidir\"\n",
      "}\n",
      "{\n",
      "    \"Result\": 8,\n",
      "    \"Score\": 0.89773154,\n",
      "    \"Query Result\": \"BMW Bakım Paketi'nden en avantajlı şekilde yararlanabilmeniz için\\npaketin ilk motor yağ servisi işleminden önce satın alınması gerekmektedir.\\nBMW Bakım Paketleri geçerlilik dönemi ne zaman sona erer?\\nBMW Bakım Paketi kullanım hakkı, iki sınırlamadan birine ulaşıldığında sona erer (kilometre\\nolarak kat edilen mesafe veya yıl olarak sözleşme süresi). BMW Bakım Paketleri için maksimum\\nsüre ve maksimum kilometre sırasıyla 5 yıl ve 100.000 km'dir\"\n",
      "}\n",
      "{\n",
      "    \"Result\": 9,\n",
      "    \"Score\": 0.8955821,\n",
      "    \"Query Result\": \"BMW Service Inclusive paketi, gerekli tüm BMW Orijinal Parçaları ve motor yağı dahil olmak\\nüzere tüm bakım işlemlerini kapsar. Bu paket sadece henüz ilk bakımı yapılmamış araçlar için\\nuygundur. Seçilen paketin süresi, otomobilinizin ilk tescil tarihinden itibaren başlar\"\n",
      "}\n",
      "{\n",
      "    \"Result\": 10,\n",
      "    \"Score\": 0.8856731,\n",
      "    \"Query Result\": \"Yıllar içinde gelen fiyat artışlarından hiçbir şekilde etkilenmezsiniz. Harcama tutarı sizin\\nkontrolünüzde olur.\\nDEVRETME KOLAYLIĞI.\\nOtomobilinizi satarsanız BMW Bakım Paketi otomatik olarak bir sonraki sahibine devrolur\\nve böylece değeri korunur.\\nKANITLANMIŞ KALİTE.\\nKullanılan BMW Orijinal Parçaları ve motor yağları yüksek BMW teknik özelliklerini\\nkarşılar.\\nDÜNYA ÇAPINDA GEÇERLİ.\\nBMW Bakım Paketleri, sadece Türkiye değil, dünya çapında tüm katılımcı BMW Yetkili\\nServisleri'nde geçerlidir\"\n",
      "}\n",
      "{\n",
      "    \"Result\": 11,\n",
      "    \"Score\": 0.8826107,\n",
      "    \"Query Result\": \"Tek bir ödeme ile motor yağından\\nfiltrelere, fren hidroliğinden balata ve disklerin değişimine kadar pek çok hizmete\\nseçeceğiniz paketin süre ve kilometre kapsamına göre belirlenen avantajlı fiyatlarla sahip\\nolursunuz.\\nBMW BAKIM PAKETLERİNİ\\nKEŞFEDİN.\\nİhtiyaçlarınızı en iyi hangi paket karşılar? \\\"BMW Service Inclusive\\\" ve \\\"BMW Service\\nInclusive Plus\\\" paketleri arasından tercihinizi yapın ve online satın alın.\\nBMW SERVICE INCLUSIVE\"\n",
      "}\n",
      "{\n",
      "    \"Result\": 12,\n",
      "    \"Score\": 0.88099504,\n",
      "    \"Query Result\": \"Kredi kartı ile online satın alma yapmak istemiyorsanız tercih edeceğiniz bir BMW\\nYetkili Servisini ziyaret ederek BMW Bakım Paketi talebiniz için servis danışmanınız ile\\ngörüşebilirsiniz.\\nBMW Bakım Paketleri'ni Yetkili Servis'den satın alabilir miyim?\\nEvet. Seçeceğiniz bir bakım paketini BMW Yetkili Servisler'inden satın alabilirsiniz. BMW Servis\\nDanışmanlarımız size bu konuda destek olabilir.\\nBMW Bakım Paketi satın almaya çalışırken hata alıyorum\"\n",
      "}\n",
      "{\n",
      "    \"Result\": 13,\n",
      "    \"Score\": 0.8805831,\n",
      "    \"Query Result\": \"a)\\n*Anılan Hizmetler tamamen elektrikli araçlar için geçerli değildir.\\n**Anılan Hizmetler tamamen elektrikli araçlar için tüm paket süresi boyunca en fazla 1 (bir) kez\\ndeğiştirilebilir.\\nBMW Bakım Paketleri hangi araçlar için satın alınabilir?\\nBMW Bakım Paketi satın alınacak aracın aşağıda belirtilen özelliklere sahip olması gereklidir.\\n BMW markalı olmalı\\n Satın alma tarihi itibariyle, ilk tescil edildikleri tarihe göre 3 Yıl veya 40\"\n",
      "}\n",
      "{\n",
      "    \"Result\": 14,\n",
      "    \"Score\": 0.8803487,\n",
      "    \"Query Result\": \"BMW Bakım Paketleri ücreti nasıl ödenir?\\nBu web sitesi üzerinden BMW Bakım Paketi ücreti sadece kredi kartı kullanılarak ödenir. Bunun\\niçin satın alma aşamasında kredi kartı bilgilerinizi ödeme formuna giriş yapmanız yeterlidir.\\nÖdeme işlemi gerçekleştirilecek kredi kartınızın internet üzerinden alışverişlere açık olması\\ngerekmektedir\"\n",
      "}\n",
      "{\n",
      "    \"Result\": 15,\n",
      "    \"Score\": 0.8792132,\n",
      "    \"Query Result\": \"Anlaşmalı olduğumuz sigorta şirketleri ile BMW sigorta işleminizden dilediğinizi\\nyaptırabilir, ayrıcalıklı hizmetlerimizden faydalanabilirsiniz.BMW Service Inclusive.\\nBMW Bakım Paketleri ile otomobilinizin bakım, aşınma ve yıpranma sebebiyle ortaya çıkan\\nmasrafları konusunda endişelenmenize gerek yok\"\n",
      "}\n",
      "{\n",
      "    \"Result\": 16,\n",
      "    \"Score\": 0.8765067,\n",
      "    \"Query Result\": \"000\\nkm(Hangisi önce dolarsa) aşmamış olmalı,\\n Borusan Otomotiv tarafından ithal edilmiş ve dolayısıyla Borusan Otomotiv’e ait\\nsistemde ve şasi bazında tanımlı bir araç olması,\\n İlk periyodik bakım işleminin henüz yapılmamış olması,\\n Daha önce tanımlanmış ve devam eden bir BMW Bakım Paketi olmamalı,\\n Kilometre veya elektronik sistemlerinde herhangi bir şekilde manipülasyon veya sair\\nusulsüz bir bir işlem yapılmamış olmalı,\\nBMW Bakım Paketi, üretici firmanın desteklediği ve öngördüğü bir ürün\"\n",
      "}\n",
      "{\n",
      "    \"Result\": 17,\n",
      "    \"Score\": 0.8756847,\n",
      "    \"Query Result\": \"lmakla, üretici standart\\nve/veya bildirimleri uyarınca uygun olmayan Araç için satış yapılmaz; yapılmış olsa dahi iptal\\nişlemi yapılır.Satın alınan bir BMW Bakım Paketi hizmeti süresi genişletilebilir mi?\\nBMW Bakım Paketi süresi uzatma işlemleri konusunda BMW Yetkili Servis danışmanlarınızdan\\nbilgi alabilirsiniz\"\n",
      "}\n",
      "{\n",
      "    \"Result\": 18,\n",
      "    \"Score\": 0.8688544,\n",
      "    \"Query Result\": \"Paket doğrudan otomobile bağlıdır ve dolayısıyla önceki sahibiyle aynı koşullar altında ve\\naynı dönem süresince yeni sahibi tarafından kullanılabilir.\\nGüvence Paketi hizmetlerini Türkiye sınırları dışında da kullanabilir miyim?\\nGüvence Paketleri Türkiye genelinde programa katılan tüm BMW Yetkili Satıcıları ve\\nServisleri’nde geçerlidir.\\nGüvence Paketleri ücreti nasıl ödenir?\\nBu web sitesi üzerinden Güvence Paketi ücreti sadece kredi kartı kullanılarak ödenir\"\n",
      "}\n",
      "{\n",
      "    \"Result\": 19,\n",
      "    \"Score\": 0.8677205,\n",
      "    \"Query Result\": \"BMW Service Inclusive paketi hangi hizmetleri kapsıyor?\\nBMW Servis Inclusive paketi aşağıdaki hizmetlerden oluşur:\\n Motor yağı değişimi (yağ filtresi dahil)*\\n Periyodik bakım kapsamında hava filtresi*, yakıt filtresi*, mikrofiltre, buji değişimi*\\n Fren hidroliği servisi\\n Araç kontrol servisi\\n*Anılan Hizmetler tamamen elektrikli araçlar için geçerli değildir\"\n",
      "}\n",
      "{\n",
      "    \"Result\": 20,\n",
      "    \"Score\": 0.8670707,\n",
      "    \"Query Result\": \"Satın aldığınız BMW Service Inclusive paket kapsamında, BMW’nizin ilgili süre/kilometre sınırları\\niçerisindeki bakımı dünyanın dört bir yanında bu sisteme tabi olan BMW Yetkili Servisleri\\ntarafından yapılır. Böylelikle BMW’niz BMW Yetkili Servisinin ve Orijinal BMW Parçalarının\\nmükemmel kalitesinden hiçbir zaman mahrum kalmaz.\\nOrijinal BMW Parçaları\"\n",
      "}\n"
     ]
    }
   ],
   "source": [
    "print_search_results_json(qdrant_search_result)\n"
   ]
  },
  {
   "cell_type": "code",
   "execution_count": null,
   "metadata": {},
   "outputs": [],
   "source": []
  }
 ],
 "metadata": {
  "kernelspec": {
   "display_name": "v-env",
   "language": "python",
   "name": "python3"
  },
  "language_info": {
   "codemirror_mode": {
    "name": "ipython",
    "version": 3
   },
   "file_extension": ".py",
   "mimetype": "text/x-python",
   "name": "python",
   "nbconvert_exporter": "python",
   "pygments_lexer": "ipython3",
   "version": "3.9.6"
  }
 },
 "nbformat": 4,
 "nbformat_minor": 2
}
